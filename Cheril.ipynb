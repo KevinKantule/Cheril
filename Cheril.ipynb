{
 "cells": [
  {
   "cell_type": "markdown",
   "metadata": {},
   "source": [
    "# Problemas secuenciales"
   ]
  },
  {
   "cell_type": "markdown",
   "metadata": {},
   "source": [
    "1) Suponga que un individuo desea invertir su capital en un banco y \n",
    "   desea saber cuánto dinero ganará después de un mes si el banco \n",
    "   paga a razón de 2% mensual. "
   ]
  },
  {
   "cell_type": "code",
   "execution_count": 44,
   "metadata": {},
   "outputs": [
    {
     "name": "stdout",
     "output_type": "stream",
     "text": [
      "Introduzca el monto de la inversión: 50\n",
      "Despúes del primer mes, tendrás un interés de $1.0 contando con un total de $51.0\n"
     ]
    }
   ],
   "source": [
    "cap_inv = float(input(\"Introduzca el monto de la inversión: \"))\n",
    "interes = cap_inv * .02\n",
    "ganancia = cap_inv + interes\n",
    "print(\"Despúes del primer mes, tendrás un interés de $\"+ str(interes)+\" contando con un total de $\"+str(ganancia))"
   ]
  },
  {
   "cell_type": "markdown",
   "metadata": {},
   "source": [
    "2) Un vendedor recibe un sueldo base más un 10% extra por comisión de sus ventas, el vendedor desea saber cuanto dinero obtendrá por concepto de comisiones por las tres ventas que realiza en el mes y el total que recibirá en el mes tomando en cuenta su sueldo base y comisiones."
   ]
  },
  {
   "cell_type": "code",
   "execution_count": 43,
   "metadata": {},
   "outputs": [
    {
     "name": "stdout",
     "output_type": "stream",
     "text": [
      "¿Cuál es tu sueldo base? 850.25\n",
      "¿Cuál es el total de venta que hiciste?500.50\n",
      "la comisión es de: 50.050000000000004\n",
      "Tu salario a cobrar este mes es de: 900.3\n"
     ]
    }
   ],
   "source": [
    "sueldo_base = float(input(\"¿Cuál es tu sueldo base? \"))\n",
    "venta = float(input(\"¿Cuál es el total de venta que hiciste?\"))\n",
    "comision = venta * 0.1\n",
    "sueldo = comision + sueldo_base\n",
    "print(\"la comisión es de: \"+ str(comision))\n",
    "print(\"Tu salario a cobrar este mes es de: \"+str(sueldo))\n"
   ]
  },
  {
   "cell_type": "markdown",
   "metadata": {},
   "source": [
    "3) Una tienda ofrece un descuento del 15% sobre el total de la compra y un cliente desea saber cuanto deberá pagar finalmente por su compra."
   ]
  },
  {
   "cell_type": "code",
   "execution_count": 47,
   "metadata": {},
   "outputs": [
    {
     "name": "stdout",
     "output_type": "stream",
     "text": [
      "¿Cuál es el total de la compra? 50.50\n",
      "El descuento del 15% 7.574999999999999\n",
      "Usted debe pagar $42.925\n"
     ]
    }
   ],
   "source": [
    "t_compra = float(input(\"¿Cuál es el total de la compra? \"))\n",
    "descuento = .15\n",
    "pagar = t_compra * descuento\n",
    "total_pagar = t_compra - pagar\n",
    "print(\"El descuento del 15% \"+str(pagar))\n",
    "print(\"Usted debe pagar $\"+ str(total_pagar))"
   ]
  },
  {
   "cell_type": "markdown",
   "metadata": {},
   "source": [
    "4) Un alumno desea saber cual será su calificación final en la materia de Algoritmos. \n",
    "   Dicha calificación se compone de los siguientes porcentajes:\n",
    "   55% del promedio de sus tres calificaciones parciales.\n",
    "   30% de la calificación del examen final.\n",
    "   15% de la calificación de un trabajo final."
   ]
  },
  {
   "cell_type": "code",
   "execution_count": 49,
   "metadata": {},
   "outputs": [
    {
     "name": "stdout",
     "output_type": "stream",
     "text": [
      "Introduzca la calificación del parcial 1: 45\n",
      "Introduzca la calificación del parcial 2: 100\n",
      "Introduzca la calificación del parcial 3: 90\n",
      "Introduzca la nota del examen final 90\n",
      "Introduzca la nota del trabajo final 10\n",
      "La calificación final es: 71.58333333333334\n"
     ]
    }
   ],
   "source": [
    "parcial1 = float(input(\"Introduzca la calificación del parcial 1: \"))\n",
    "parcial2 = float(input(\"Introduzca la calificación del parcial 2: \"))\n",
    "parcial3 = float(input(\"Introduzca la calificación del parcial 3: \"))\n",
    "examen_final = float(input(\"Introduzca la nota del examen final \"))\n",
    "trabajo_final = float(input(\"Introduzca la nota del trabajo final \"))\n",
    "\n",
    "promedio = (parcial1 + parcial2 + parcial3) / 3 \n",
    "\n",
    "calificacion_parcial = promedio * .55\n",
    "calificacion_examenF = examen_final * .3\n",
    "calificacion_trabajoF = trabajo_final * .15\n",
    "\n",
    "calificacion_final = calificacion_parcial + calificacion_examenF + calificacion_trabajoF\n",
    "\n",
    "print(\"La calificación final es: \"+ str(calificacion_final))"
   ]
  },
  {
   "cell_type": "markdown",
   "metadata": {},
   "source": [
    "5) Un maestro desea saber que porcentaje de hombres y que porcentaje de mujeres hay en un grupo de estudiantes."
   ]
  },
  {
   "cell_type": "code",
   "execution_count": 52,
   "metadata": {},
   "outputs": [
    {
     "name": "stdout",
     "output_type": "stream",
     "text": [
      "¿Cuál es el total de hombres en el grupo?30\n",
      "¿Cuál es el total de mujeres en el grupo?50\n",
      "Porcentaje de estudiantes hombres: 37.5\n",
      "Porcentaje de estudiantes mujeres: 62.5\n"
     ]
    }
   ],
   "source": [
    "total_H = int(input(\"¿Cuál es el total de hombres en el grupo?\"))\n",
    "total_M = int(input(\"¿Cuál es el total de mujeres en el grupo?\"))\n",
    "\n",
    "totalEstudiante = total_H + total_M\n",
    "\n",
    "promedioH = total_H * 100 / totalEstudiante\n",
    "promedioM = total_M * 100 / totalEstudiante\n",
    "\n",
    "print(\"Porcentaje de estudiantes hombres: \"+ str(promedioH))\n",
    "print(\"Porcentaje de estudiantes mujeres: \"+ str(promedioM))\n",
    "\n"
   ]
  },
  {
   "cell_type": "markdown",
   "metadata": {},
   "source": [
    "6) Realizar un algoritmo que calcule la edad de una persona."
   ]
  },
  {
   "cell_type": "code",
   "execution_count": 36,
   "metadata": {},
   "outputs": [
    {
     "name": "stdout",
     "output_type": "stream",
     "text": [
      "introduce el año actual: 2020\n",
      "introduce el año de tu nacimiento: 1998\n",
      "Mi edad es:\n",
      "22\n"
     ]
    }
   ],
   "source": [
    "import datetime\n",
    " \n",
    "#def edad():\n",
    "f_act = int(input(\"introduce el año actual: \"))\n",
    "naci = int(input(\"introduce el año de tu nacimiento: \"))\n",
    "if f_act < naci:\n",
    "    print (\"error en la fecha de nacimiento\")\n",
    "else:\n",
    "    edad = f_act - naci\n",
    "    print (\"Tu edad es: \")\n",
    "    print (edad)\n"
   ]
  },
  {
   "cell_type": "code",
   "execution_count": null,
   "metadata": {},
   "outputs": [],
   "source": []
  }
 ],
 "metadata": {
  "kernelspec": {
   "display_name": "Python 3",
   "language": "python",
   "name": "python3"
  },
  "language_info": {
   "codemirror_mode": {
    "name": "ipython",
    "version": 3
   },
   "file_extension": ".py",
   "mimetype": "text/x-python",
   "name": "python",
   "nbconvert_exporter": "python",
   "pygments_lexer": "ipython3",
   "version": "3.7.3"
  }
 },
 "nbformat": 4,
 "nbformat_minor": 2
}
